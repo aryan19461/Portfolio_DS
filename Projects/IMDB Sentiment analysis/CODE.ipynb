{
  "cells": [
    {
      "cell_type": "code",
      "execution_count": 4,
      "metadata": {
        "id": "qut6KnutIoAE"
      },
      "outputs": [],
      "source": [
        "import numpy as np\n",
        "import pandas as pd\n",
        "import matplotlib.pyplot as plt\n",
        "\n"
      ]
    },
    {
      "cell_type": "markdown",
      "metadata": {
        "id": "rfwvUk9ibUtN"
      },
      "source": [
        "**Data Exploration**\n",
        "\n",
        "1. Load Data: Begin by loading your dataset into a pandas DataFrame to manipulate and analyze the data efficiently.\n",
        "2. Initial Exploration: Use methods like head(), info(), and describe() to get an overview of the dataset, such as the number of entries, data types, and basic statistical details.\n",
        "3. Check for Missing Values: Identify if there are any missing values in the dataset using isnull().sum().\n",
        "4. Class Distribution: Check the balance between positive and negative reviews to see if the dataset is skewed using value_counts().\n",
        "5. Review Length Analysis: Add a new column to your DataFrame that stores the length of each review. This can be done using len() function on the review text column. Analyze the distribution of review lengths to understand the data better."
      ]
    },
    {
      "cell_type": "code",
      "execution_count": 5,
      "metadata": {
        "colab": {
          "base_uri": "https://localhost:8080/",
          "height": 206
        },
        "id": "vNbb4t2OJo3_",
        "outputId": "fb2a2c00-5350-4a30-a3bc-0954fa45dc80"
      },
      "outputs": [
        {
          "data": {
            "text/html": [
              "<div>\n",
              "<style scoped>\n",
              "    .dataframe tbody tr th:only-of-type {\n",
              "        vertical-align: middle;\n",
              "    }\n",
              "\n",
              "    .dataframe tbody tr th {\n",
              "        vertical-align: top;\n",
              "    }\n",
              "\n",
              "    .dataframe thead th {\n",
              "        text-align: right;\n",
              "    }\n",
              "</style>\n",
              "<table border=\"1\" class=\"dataframe\">\n",
              "  <thead>\n",
              "    <tr style=\"text-align: right;\">\n",
              "      <th></th>\n",
              "      <th>review</th>\n",
              "      <th>sentiment</th>\n",
              "    </tr>\n",
              "  </thead>\n",
              "  <tbody>\n",
              "    <tr>\n",
              "      <th>0</th>\n",
              "      <td>One of the other reviewers has mentioned that ...</td>\n",
              "      <td>positive</td>\n",
              "    </tr>\n",
              "    <tr>\n",
              "      <th>1</th>\n",
              "      <td>A wonderful little production. &lt;br /&gt;&lt;br /&gt;The...</td>\n",
              "      <td>positive</td>\n",
              "    </tr>\n",
              "    <tr>\n",
              "      <th>2</th>\n",
              "      <td>I thought this was a wonderful way to spend ti...</td>\n",
              "      <td>positive</td>\n",
              "    </tr>\n",
              "    <tr>\n",
              "      <th>3</th>\n",
              "      <td>Basically there's a family where a little boy ...</td>\n",
              "      <td>negative</td>\n",
              "    </tr>\n",
              "    <tr>\n",
              "      <th>4</th>\n",
              "      <td>Petter Mattei's \"Love in the Time of Money\" is...</td>\n",
              "      <td>positive</td>\n",
              "    </tr>\n",
              "  </tbody>\n",
              "</table>\n",
              "</div>"
            ],
            "text/plain": [
              "                                              review sentiment\n",
              "0  One of the other reviewers has mentioned that ...  positive\n",
              "1  A wonderful little production. <br /><br />The...  positive\n",
              "2  I thought this was a wonderful way to spend ti...  positive\n",
              "3  Basically there's a family where a little boy ...  negative\n",
              "4  Petter Mattei's \"Love in the Time of Money\" is...  positive"
            ]
          },
          "execution_count": 5,
          "metadata": {},
          "output_type": "execute_result"
        }
      ],
      "source": [
        "datafile = pd.read_csv(\"data_imdb.csv\")\n",
        "datafile.head(5)"
      ]
    },
    {
      "cell_type": "code",
      "execution_count": 6,
      "metadata": {
        "colab": {
          "base_uri": "https://localhost:8080/"
        },
        "id": "mrOgPUUfJ4lj",
        "outputId": "4dfe7762-a026-4f47-b984-1b15202238a6"
      },
      "outputs": [
        {
          "name": "stdout",
          "output_type": "stream",
          "text": [
            "<class 'pandas.core.frame.DataFrame'>\n",
            "RangeIndex: 50000 entries, 0 to 49999\n",
            "Data columns (total 2 columns):\n",
            " #   Column     Non-Null Count  Dtype \n",
            "---  ------     --------------  ----- \n",
            " 0   review     50000 non-null  object\n",
            " 1   sentiment  50000 non-null  object\n",
            "dtypes: object(2)\n",
            "memory usage: 781.4+ KB\n"
          ]
        }
      ],
      "source": [
        "datafile.info()"
      ]
    },
    {
      "cell_type": "code",
      "execution_count": 7,
      "metadata": {
        "colab": {
          "base_uri": "https://localhost:8080/",
          "height": 175
        },
        "id": "zUSjZtP_J6x9",
        "outputId": "2cffff04-a78d-43ed-87a7-c02944bcdc16"
      },
      "outputs": [
        {
          "data": {
            "text/html": [
              "<div>\n",
              "<style scoped>\n",
              "    .dataframe tbody tr th:only-of-type {\n",
              "        vertical-align: middle;\n",
              "    }\n",
              "\n",
              "    .dataframe tbody tr th {\n",
              "        vertical-align: top;\n",
              "    }\n",
              "\n",
              "    .dataframe thead th {\n",
              "        text-align: right;\n",
              "    }\n",
              "</style>\n",
              "<table border=\"1\" class=\"dataframe\">\n",
              "  <thead>\n",
              "    <tr style=\"text-align: right;\">\n",
              "      <th></th>\n",
              "      <th>review</th>\n",
              "      <th>sentiment</th>\n",
              "    </tr>\n",
              "  </thead>\n",
              "  <tbody>\n",
              "    <tr>\n",
              "      <th>count</th>\n",
              "      <td>50000</td>\n",
              "      <td>50000</td>\n",
              "    </tr>\n",
              "    <tr>\n",
              "      <th>unique</th>\n",
              "      <td>49581</td>\n",
              "      <td>2</td>\n",
              "    </tr>\n",
              "    <tr>\n",
              "      <th>top</th>\n",
              "      <td>Loved today's show!!! It was a variety and not...</td>\n",
              "      <td>positive</td>\n",
              "    </tr>\n",
              "    <tr>\n",
              "      <th>freq</th>\n",
              "      <td>5</td>\n",
              "      <td>25000</td>\n",
              "    </tr>\n",
              "  </tbody>\n",
              "</table>\n",
              "</div>"
            ],
            "text/plain": [
              "                                                   review sentiment\n",
              "count                                               50000     50000\n",
              "unique                                              49581         2\n",
              "top     Loved today's show!!! It was a variety and not...  positive\n",
              "freq                                                    5     25000"
            ]
          },
          "execution_count": 7,
          "metadata": {},
          "output_type": "execute_result"
        }
      ],
      "source": [
        "datafile.describe()"
      ]
    },
    {
      "cell_type": "code",
      "execution_count": 8,
      "metadata": {
        "colab": {
          "base_uri": "https://localhost:8080/",
          "height": 423
        },
        "id": "mIoR1O6mKEtP",
        "outputId": "7d44b3fe-6625-4a75-9305-867bfb9515d1"
      },
      "outputs": [
        {
          "data": {
            "text/html": [
              "<div>\n",
              "<style scoped>\n",
              "    .dataframe tbody tr th:only-of-type {\n",
              "        vertical-align: middle;\n",
              "    }\n",
              "\n",
              "    .dataframe tbody tr th {\n",
              "        vertical-align: top;\n",
              "    }\n",
              "\n",
              "    .dataframe thead th {\n",
              "        text-align: right;\n",
              "    }\n",
              "</style>\n",
              "<table border=\"1\" class=\"dataframe\">\n",
              "  <thead>\n",
              "    <tr style=\"text-align: right;\">\n",
              "      <th></th>\n",
              "      <th>review</th>\n",
              "      <th>sentiment</th>\n",
              "    </tr>\n",
              "  </thead>\n",
              "  <tbody>\n",
              "    <tr>\n",
              "      <th>0</th>\n",
              "      <td>False</td>\n",
              "      <td>False</td>\n",
              "    </tr>\n",
              "    <tr>\n",
              "      <th>1</th>\n",
              "      <td>False</td>\n",
              "      <td>False</td>\n",
              "    </tr>\n",
              "    <tr>\n",
              "      <th>2</th>\n",
              "      <td>False</td>\n",
              "      <td>False</td>\n",
              "    </tr>\n",
              "    <tr>\n",
              "      <th>3</th>\n",
              "      <td>False</td>\n",
              "      <td>False</td>\n",
              "    </tr>\n",
              "    <tr>\n",
              "      <th>4</th>\n",
              "      <td>False</td>\n",
              "      <td>False</td>\n",
              "    </tr>\n",
              "    <tr>\n",
              "      <th>...</th>\n",
              "      <td>...</td>\n",
              "      <td>...</td>\n",
              "    </tr>\n",
              "    <tr>\n",
              "      <th>49995</th>\n",
              "      <td>False</td>\n",
              "      <td>False</td>\n",
              "    </tr>\n",
              "    <tr>\n",
              "      <th>49996</th>\n",
              "      <td>False</td>\n",
              "      <td>False</td>\n",
              "    </tr>\n",
              "    <tr>\n",
              "      <th>49997</th>\n",
              "      <td>False</td>\n",
              "      <td>False</td>\n",
              "    </tr>\n",
              "    <tr>\n",
              "      <th>49998</th>\n",
              "      <td>False</td>\n",
              "      <td>False</td>\n",
              "    </tr>\n",
              "    <tr>\n",
              "      <th>49999</th>\n",
              "      <td>False</td>\n",
              "      <td>False</td>\n",
              "    </tr>\n",
              "  </tbody>\n",
              "</table>\n",
              "<p>50000 rows × 2 columns</p>\n",
              "</div>"
            ],
            "text/plain": [
              "       review  sentiment\n",
              "0       False      False\n",
              "1       False      False\n",
              "2       False      False\n",
              "3       False      False\n",
              "4       False      False\n",
              "...       ...        ...\n",
              "49995   False      False\n",
              "49996   False      False\n",
              "49997   False      False\n",
              "49998   False      False\n",
              "49999   False      False\n",
              "\n",
              "[50000 rows x 2 columns]"
            ]
          },
          "execution_count": 8,
          "metadata": {},
          "output_type": "execute_result"
        }
      ],
      "source": [
        "datafile.isnull()"
      ]
    },
    {
      "cell_type": "markdown",
      "metadata": {
        "id": "mJhVQo9Qbp9-"
      },
      "source": [
        "**Data Cleaning and Text Preprocessing**\n",
        "\n",
        "1. Remove Noise: Strip out unnecessary noise from the data like HTML tags, special characters, and numbers using regular expressions.\n",
        "\n",
        "2. Tokenization: Split the text into individual words using tokenizers available in libraries like NLTK or spaCy.\n",
        "Removing Stop Words: Filter out stop words (common words that may not be useful for the model) using NLTK's or spaCy's built-in stop word lists.\n",
        "\n",
        "3. Stemming and Lemmatization: Reduce words to their root form. For example, \"running\" or \"ran\" becomes \"run\". You can use NLTK’s PorterStemmer or spaCy’s lemmatizer.\n",
        "\n",
        "4. Vectorization (TF-Idatafile or Bag-of-Words): Convert text data into numerical vectors that machine learning models can understand. Use TfidatafileVectorizer or CountVectorizer from scikit-learn."
      ]
    },
    {
      "cell_type": "code",
      "execution_count": 9,
      "metadata": {
        "id": "Mhogx5mPKH9k"
      },
      "outputs": [],
      "source": [
        "#Removing Noises\n",
        "import re\n",
        "def clean_text(text):\n",
        "    # Remove special characters and numbers\n",
        "      text = re.sub(r'<.*?>','',text)\n",
        "      text = re.sub(r'[^a-zA-Z\\s]', '', text)\n",
        "    # Remove leading and trailing spaces\n",
        "      text = text.strip()\n",
        "      return text\n",
        "\n",
        "# appliying this clean text funciton on review column\n",
        "datafile['review'] = datafile['review'].apply(clean_text)"
      ]
    },
    {
      "cell_type": "code",
      "execution_count": 10,
      "metadata": {
        "colab": {
          "base_uri": "https://localhost:8080/",
          "height": 206
        },
        "id": "2l_5LjO8LVO9",
        "outputId": "f3e383c4-6b3c-47a8-d000-3bf2a952a9b7"
      },
      "outputs": [
        {
          "data": {
            "text/html": [
              "<div>\n",
              "<style scoped>\n",
              "    .dataframe tbody tr th:only-of-type {\n",
              "        vertical-align: middle;\n",
              "    }\n",
              "\n",
              "    .dataframe tbody tr th {\n",
              "        vertical-align: top;\n",
              "    }\n",
              "\n",
              "    .dataframe thead th {\n",
              "        text-align: right;\n",
              "    }\n",
              "</style>\n",
              "<table border=\"1\" class=\"dataframe\">\n",
              "  <thead>\n",
              "    <tr style=\"text-align: right;\">\n",
              "      <th></th>\n",
              "      <th>review</th>\n",
              "      <th>sentiment</th>\n",
              "    </tr>\n",
              "  </thead>\n",
              "  <tbody>\n",
              "    <tr>\n",
              "      <th>0</th>\n",
              "      <td>One of the other reviewers has mentioned that ...</td>\n",
              "      <td>positive</td>\n",
              "    </tr>\n",
              "    <tr>\n",
              "      <th>1</th>\n",
              "      <td>A wonderful little production The filming tech...</td>\n",
              "      <td>positive</td>\n",
              "    </tr>\n",
              "    <tr>\n",
              "      <th>2</th>\n",
              "      <td>I thought this was a wonderful way to spend ti...</td>\n",
              "      <td>positive</td>\n",
              "    </tr>\n",
              "    <tr>\n",
              "      <th>3</th>\n",
              "      <td>Basically theres a family where a little boy J...</td>\n",
              "      <td>negative</td>\n",
              "    </tr>\n",
              "    <tr>\n",
              "      <th>4</th>\n",
              "      <td>Petter Matteis Love in the Time of Money is a ...</td>\n",
              "      <td>positive</td>\n",
              "    </tr>\n",
              "  </tbody>\n",
              "</table>\n",
              "</div>"
            ],
            "text/plain": [
              "                                              review sentiment\n",
              "0  One of the other reviewers has mentioned that ...  positive\n",
              "1  A wonderful little production The filming tech...  positive\n",
              "2  I thought this was a wonderful way to spend ti...  positive\n",
              "3  Basically theres a family where a little boy J...  negative\n",
              "4  Petter Matteis Love in the Time of Money is a ...  positive"
            ]
          },
          "execution_count": 10,
          "metadata": {},
          "output_type": "execute_result"
        }
      ],
      "source": [
        "datafile.head()"
      ]
    },
    {
      "cell_type": "code",
      "execution_count": 11,
      "metadata": {
        "colab": {
          "base_uri": "https://localhost:8080/"
        },
        "id": "vv7OARYqLYRQ",
        "outputId": "daae9f0f-61b2-4f83-c0ea-9ba729e39cc8"
      },
      "outputs": [
        {
          "name": "stderr",
          "output_type": "stream",
          "text": [
            "[nltk_data] Downloading package punkt_tab to\n",
            "[nltk_data]     C:\\Users\\LOQ\\AppData\\Roaming\\nltk_data...\n",
            "[nltk_data]   Unzipping tokenizers\\punkt_tab.zip.\n"
          ]
        }
      ],
      "source": [
        "#Tokenizing the file\n",
        "import nltk\n",
        "from nltk.tokenize import word_tokenize\n",
        "nltk.download('punkt_tab')\n",
        "\n",
        "datafile['review'] = datafile['review'].apply(word_tokenize)\n",
        "\n"
      ]
    },
    {
      "cell_type": "code",
      "execution_count": 12,
      "metadata": {
        "colab": {
          "base_uri": "https://localhost:8080/"
        },
        "id": "wmPOY9VzLyM-",
        "outputId": "48e25d1a-1325-4541-ed1b-2fabada616db"
      },
      "outputs": [
        {
          "name": "stderr",
          "output_type": "stream",
          "text": [
            "[nltk_data] Downloading package stopwords to\n",
            "[nltk_data]     C:\\Users\\LOQ\\AppData\\Roaming\\nltk_data...\n",
            "[nltk_data]   Unzipping corpora\\stopwords.zip.\n"
          ]
        }
      ],
      "source": [
        "# Removing stop words\n",
        "from nltk.corpus import stopwords\n",
        "nltk.download('stopwords')\n",
        "stop_words = set(stopwords.words('english'))\n",
        "\n",
        "def remove_stopwords(tokens):\n",
        "  return [word for word in tokens if word not in stop_words]\n",
        "\n",
        "datafile['filtered_tokens'] = datafile['review'].apply(remove_stopwords)"
      ]
    },
    {
      "cell_type": "code",
      "execution_count": 13,
      "metadata": {
        "colab": {
          "base_uri": "https://localhost:8080/",
          "height": 206
        },
        "id": "31DkSi8XNAnQ",
        "outputId": "8cae8c83-c0f7-4701-aac6-883699ce4e2a"
      },
      "outputs": [
        {
          "data": {
            "text/html": [
              "<div>\n",
              "<style scoped>\n",
              "    .dataframe tbody tr th:only-of-type {\n",
              "        vertical-align: middle;\n",
              "    }\n",
              "\n",
              "    .dataframe tbody tr th {\n",
              "        vertical-align: top;\n",
              "    }\n",
              "\n",
              "    .dataframe thead th {\n",
              "        text-align: right;\n",
              "    }\n",
              "</style>\n",
              "<table border=\"1\" class=\"dataframe\">\n",
              "  <thead>\n",
              "    <tr style=\"text-align: right;\">\n",
              "      <th></th>\n",
              "      <th>review</th>\n",
              "      <th>sentiment</th>\n",
              "      <th>filtered_tokens</th>\n",
              "    </tr>\n",
              "  </thead>\n",
              "  <tbody>\n",
              "    <tr>\n",
              "      <th>0</th>\n",
              "      <td>[One, of, the, other, reviewers, has, mentione...</td>\n",
              "      <td>positive</td>\n",
              "      <td>[One, reviewers, mentioned, watching, Oz, epis...</td>\n",
              "    </tr>\n",
              "    <tr>\n",
              "      <th>1</th>\n",
              "      <td>[A, wonderful, little, production, The, filmin...</td>\n",
              "      <td>positive</td>\n",
              "      <td>[A, wonderful, little, production, The, filmin...</td>\n",
              "    </tr>\n",
              "    <tr>\n",
              "      <th>2</th>\n",
              "      <td>[I, thought, this, was, a, wonderful, way, to,...</td>\n",
              "      <td>positive</td>\n",
              "      <td>[I, thought, wonderful, way, spend, time, hot,...</td>\n",
              "    </tr>\n",
              "    <tr>\n",
              "      <th>3</th>\n",
              "      <td>[Basically, theres, a, family, where, a, littl...</td>\n",
              "      <td>negative</td>\n",
              "      <td>[Basically, theres, family, little, boy, Jake,...</td>\n",
              "    </tr>\n",
              "    <tr>\n",
              "      <th>4</th>\n",
              "      <td>[Petter, Matteis, Love, in, the, Time, of, Mon...</td>\n",
              "      <td>positive</td>\n",
              "      <td>[Petter, Matteis, Love, Time, Money, visually,...</td>\n",
              "    </tr>\n",
              "  </tbody>\n",
              "</table>\n",
              "</div>"
            ],
            "text/plain": [
              "                                              review sentiment  \\\n",
              "0  [One, of, the, other, reviewers, has, mentione...  positive   \n",
              "1  [A, wonderful, little, production, The, filmin...  positive   \n",
              "2  [I, thought, this, was, a, wonderful, way, to,...  positive   \n",
              "3  [Basically, theres, a, family, where, a, littl...  negative   \n",
              "4  [Petter, Matteis, Love, in, the, Time, of, Mon...  positive   \n",
              "\n",
              "                                     filtered_tokens  \n",
              "0  [One, reviewers, mentioned, watching, Oz, epis...  \n",
              "1  [A, wonderful, little, production, The, filmin...  \n",
              "2  [I, thought, wonderful, way, spend, time, hot,...  \n",
              "3  [Basically, theres, family, little, boy, Jake,...  \n",
              "4  [Petter, Matteis, Love, Time, Money, visually,...  "
            ]
          },
          "execution_count": 13,
          "metadata": {},
          "output_type": "execute_result"
        }
      ],
      "source": [
        "datafile.head()"
      ]
    },
    {
      "cell_type": "code",
      "execution_count": 14,
      "metadata": {
        "colab": {
          "base_uri": "https://localhost:8080/",
          "height": 206
        },
        "id": "vqo7w8boNEd1",
        "outputId": "04d18ea4-a7e2-467a-8b24-84d04540582c"
      },
      "outputs": [
        {
          "data": {
            "text/html": [
              "<div>\n",
              "<style scoped>\n",
              "    .dataframe tbody tr th:only-of-type {\n",
              "        vertical-align: middle;\n",
              "    }\n",
              "\n",
              "    .dataframe tbody tr th {\n",
              "        vertical-align: top;\n",
              "    }\n",
              "\n",
              "    .dataframe thead th {\n",
              "        text-align: right;\n",
              "    }\n",
              "</style>\n",
              "<table border=\"1\" class=\"dataframe\">\n",
              "  <thead>\n",
              "    <tr style=\"text-align: right;\">\n",
              "      <th></th>\n",
              "      <th>review</th>\n",
              "      <th>sentiment</th>\n",
              "      <th>filtered_tokens</th>\n",
              "      <th>stemmed_token</th>\n",
              "    </tr>\n",
              "  </thead>\n",
              "  <tbody>\n",
              "    <tr>\n",
              "      <th>0</th>\n",
              "      <td>[One, of, the, other, reviewers, has, mentione...</td>\n",
              "      <td>positive</td>\n",
              "      <td>[One, reviewers, mentioned, watching, Oz, epis...</td>\n",
              "      <td>[one, review, mention, watch, oz, episod, youl...</td>\n",
              "    </tr>\n",
              "    <tr>\n",
              "      <th>1</th>\n",
              "      <td>[A, wonderful, little, production, The, filmin...</td>\n",
              "      <td>positive</td>\n",
              "      <td>[A, wonderful, little, production, The, filmin...</td>\n",
              "      <td>[a, wonder, littl, product, the, film, techniq...</td>\n",
              "    </tr>\n",
              "    <tr>\n",
              "      <th>2</th>\n",
              "      <td>[I, thought, this, was, a, wonderful, way, to,...</td>\n",
              "      <td>positive</td>\n",
              "      <td>[I, thought, wonderful, way, spend, time, hot,...</td>\n",
              "      <td>[i, thought, wonder, way, spend, time, hot, su...</td>\n",
              "    </tr>\n",
              "    <tr>\n",
              "      <th>3</th>\n",
              "      <td>[Basically, theres, a, family, where, a, littl...</td>\n",
              "      <td>negative</td>\n",
              "      <td>[Basically, theres, family, little, boy, Jake,...</td>\n",
              "      <td>[basic, there, famili, littl, boy, jake, think...</td>\n",
              "    </tr>\n",
              "    <tr>\n",
              "      <th>4</th>\n",
              "      <td>[Petter, Matteis, Love, in, the, Time, of, Mon...</td>\n",
              "      <td>positive</td>\n",
              "      <td>[Petter, Matteis, Love, Time, Money, visually,...</td>\n",
              "      <td>[petter, mattei, love, time, money, visual, st...</td>\n",
              "    </tr>\n",
              "  </tbody>\n",
              "</table>\n",
              "</div>"
            ],
            "text/plain": [
              "                                              review sentiment  \\\n",
              "0  [One, of, the, other, reviewers, has, mentione...  positive   \n",
              "1  [A, wonderful, little, production, The, filmin...  positive   \n",
              "2  [I, thought, this, was, a, wonderful, way, to,...  positive   \n",
              "3  [Basically, theres, a, family, where, a, littl...  negative   \n",
              "4  [Petter, Matteis, Love, in, the, Time, of, Mon...  positive   \n",
              "\n",
              "                                     filtered_tokens  \\\n",
              "0  [One, reviewers, mentioned, watching, Oz, epis...   \n",
              "1  [A, wonderful, little, production, The, filmin...   \n",
              "2  [I, thought, wonderful, way, spend, time, hot,...   \n",
              "3  [Basically, theres, family, little, boy, Jake,...   \n",
              "4  [Petter, Matteis, Love, Time, Money, visually,...   \n",
              "\n",
              "                                       stemmed_token  \n",
              "0  [one, review, mention, watch, oz, episod, youl...  \n",
              "1  [a, wonder, littl, product, the, film, techniq...  \n",
              "2  [i, thought, wonder, way, spend, time, hot, su...  \n",
              "3  [basic, there, famili, littl, boy, jake, think...  \n",
              "4  [petter, mattei, love, time, money, visual, st...  "
            ]
          },
          "execution_count": 14,
          "metadata": {},
          "output_type": "execute_result"
        }
      ],
      "source": [
        "# stemming and Lemmatization\n",
        "from nltk.stem import PorterStemmer\n",
        "stemmer = PorterStemmer()\n",
        "\n",
        "def stem_word(tokens):\n",
        "  return [stemmer.stem(word) for word in tokens ]\n",
        "\n",
        "datafile['stemmed_token'] = datafile['filtered_tokens'].apply(stem_word)\n",
        "datafile.head()"
      ]
    },
    {
      "cell_type": "code",
      "execution_count": null,
      "metadata": {
        "id": "yDgDGwNCOH5d"
      },
      "outputs": [],
      "source": [
        "#vectoriztion\n",
        "from sklearn.feature_extraction.text import TfidatafileVectorizer\n",
        "\n",
        "# Initialize the vectorizer\n",
        "vectorizer = TfidatafileVectorizer(max_features=1000)  # Limit number of features to 1000 for example\n",
        "\n",
        "# Fit and transform the text data\n",
        "# This X can now be used as input for your machine learning models\n",
        "X = vectorizer.fit_transform(datafile['review'].apply(lambda x: ' '.join(x)))\n",
        "\n"
      ]
    },
    {
      "cell_type": "markdown",
      "metadata": {
        "id": "S2frkwmDb2_J"
      },
      "source": [
        "**Feature Engineering (optional in this step but critical overall)**\n",
        "\n",
        "  You might create features like word count, character count, punctuation count, or the presence of certain words that could be indicative of sentiment.\n",
        "  Use statistical techniques to analyze the importance and impact of these features on the sentiment classification."
      ]
    },
    {
      "cell_type": "code",
      "execution_count": 20,
      "metadata": {
        "colab": {
          "base_uri": "https://localhost:8080/",
          "height": 293
        },
        "id": "tOQL0EQ9Oo67",
        "outputId": "093dfb33-491a-4d24-9796-af2c5866718f"
      },
      "outputs": [
        {
          "data": {
            "text/html": [
              "<div>\n",
              "<style scoped>\n",
              "    .dataframe tbody tr th:only-of-type {\n",
              "        vertical-align: middle;\n",
              "    }\n",
              "\n",
              "    .dataframe tbody tr th {\n",
              "        vertical-align: top;\n",
              "    }\n",
              "\n",
              "    .dataframe thead th {\n",
              "        text-align: right;\n",
              "    }\n",
              "</style>\n",
              "<table border=\"1\" class=\"dataframe\">\n",
              "  <thead>\n",
              "    <tr style=\"text-align: right;\">\n",
              "      <th></th>\n",
              "      <th>review</th>\n",
              "      <th>sentiment</th>\n",
              "      <th>filtered_tokens</th>\n",
              "      <th>stemmed_token</th>\n",
              "      <th>word_count</th>\n",
              "      <th>char_count</th>\n",
              "      <th>avg_word_length</th>\n",
              "    </tr>\n",
              "  </thead>\n",
              "  <tbody>\n",
              "    <tr>\n",
              "      <th>0</th>\n",
              "      <td>[One, of, the, other, reviewers, has, mentione...</td>\n",
              "      <td>positive</td>\n",
              "      <td>[One, reviewers, mentioned, watching, Oz, epis...</td>\n",
              "      <td>[one, review, mention, watch, oz, episod, youl...</td>\n",
              "      <td>178</td>\n",
              "      <td>300</td>\n",
              "      <td>1.685393</td>\n",
              "    </tr>\n",
              "    <tr>\n",
              "      <th>1</th>\n",
              "      <td>[A, wonderful, little, production, The, filmin...</td>\n",
              "      <td>positive</td>\n",
              "      <td>[A, wonderful, little, production, The, filmin...</td>\n",
              "      <td>[a, wonder, littl, product, the, film, techniq...</td>\n",
              "      <td>91</td>\n",
              "      <td>156</td>\n",
              "      <td>1.714286</td>\n",
              "    </tr>\n",
              "    <tr>\n",
              "      <th>2</th>\n",
              "      <td>[I, thought, this, was, a, wonderful, way, to,...</td>\n",
              "      <td>positive</td>\n",
              "      <td>[I, thought, wonderful, way, spend, time, hot,...</td>\n",
              "      <td>[i, thought, wonder, way, spend, time, hot, su...</td>\n",
              "      <td>91</td>\n",
              "      <td>161</td>\n",
              "      <td>1.769231</td>\n",
              "    </tr>\n",
              "    <tr>\n",
              "      <th>3</th>\n",
              "      <td>[Basically, theres, a, family, where, a, littl...</td>\n",
              "      <td>negative</td>\n",
              "      <td>[Basically, theres, family, little, boy, Jake,...</td>\n",
              "      <td>[basic, there, famili, littl, boy, jake, think...</td>\n",
              "      <td>70</td>\n",
              "      <td>128</td>\n",
              "      <td>1.828571</td>\n",
              "    </tr>\n",
              "    <tr>\n",
              "      <th>4</th>\n",
              "      <td>[Petter, Matteis, Love, in, the, Time, of, Mon...</td>\n",
              "      <td>positive</td>\n",
              "      <td>[Petter, Matteis, Love, Time, Money, visually,...</td>\n",
              "      <td>[petter, mattei, love, time, money, visual, st...</td>\n",
              "      <td>130</td>\n",
              "      <td>222</td>\n",
              "      <td>1.707692</td>\n",
              "    </tr>\n",
              "  </tbody>\n",
              "</table>\n",
              "</div>"
            ],
            "text/plain": [
              "                                              review sentiment  \\\n",
              "0  [One, of, the, other, reviewers, has, mentione...  positive   \n",
              "1  [A, wonderful, little, production, The, filmin...  positive   \n",
              "2  [I, thought, this, was, a, wonderful, way, to,...  positive   \n",
              "3  [Basically, theres, a, family, where, a, littl...  negative   \n",
              "4  [Petter, Matteis, Love, in, the, Time, of, Mon...  positive   \n",
              "\n",
              "                                     filtered_tokens  \\\n",
              "0  [One, reviewers, mentioned, watching, Oz, epis...   \n",
              "1  [A, wonderful, little, production, The, filmin...   \n",
              "2  [I, thought, wonderful, way, spend, time, hot,...   \n",
              "3  [Basically, theres, family, little, boy, Jake,...   \n",
              "4  [Petter, Matteis, Love, Time, Money, visually,...   \n",
              "\n",
              "                                       stemmed_token  word_count  char_count  \\\n",
              "0  [one, review, mention, watch, oz, episod, youl...         178         300   \n",
              "1  [a, wonder, littl, product, the, film, techniq...          91         156   \n",
              "2  [i, thought, wonder, way, spend, time, hot, su...          91         161   \n",
              "3  [basic, there, famili, littl, boy, jake, think...          70         128   \n",
              "4  [petter, mattei, love, time, money, visual, st...         130         222   \n",
              "\n",
              "   avg_word_length  \n",
              "0         1.685393  \n",
              "1         1.714286  \n",
              "2         1.769231  \n",
              "3         1.828571  \n",
              "4         1.707692  "
            ]
          },
          "execution_count": 20,
          "metadata": {},
          "output_type": "execute_result"
        }
      ],
      "source": [
        "# Word count\n",
        "datafile['word_count'] = datafile['filtered_tokens'].apply(len)\n",
        "\n",
        "# Character count\n",
        "datafile['char_count'] = datafile['review'].apply(len)\n",
        "\n",
        "# Average word length\n",
        "datafile['avg_word_length'] = datafile['char_count'] / datafile['word_count']\n",
        "\n",
        "datafile.head()\n"
      ]
    },
    {
      "cell_type": "code",
      "execution_count": 17,
      "metadata": {
        "id": "422OHMWDO596"
      },
      "outputs": [],
      "source": [
        "from sklearn.model_selection import train_test_split\n",
        "\n",
        "# Assume y is your label\n",
        "y = datafile['sentiment'].apply(lambda x: 1 if x == 'positive' else 0)\n",
        "\n",
        "# Split the data\n",
        "X_train, X_test, y_train, y_test = train_test_split(X, y, test_size=0.2, random_state=42)\n"
      ]
    },
    {
      "cell_type": "markdown",
      "metadata": {
        "id": "9MgsBI1qaYP-"
      },
      "source": [
        "***Model Evaluation***\n",
        "\n",
        "Evaluating your model is crucial to understand its performance and where it might be lacking:\n",
        "\n",
        "  1. Accuracy: Measures the overall correctness of the model.\n",
        "  2. Precision, Recall, F1-Score: Helpful to see the balance between true positives and the errors made.\n",
        "  3. Confusion Matrix: Provides insight into the types of errors made by the model."
      ]
    },
    {
      "cell_type": "markdown",
      "metadata": {
        "id": "ioJwYkAhav26"
      },
      "source": [
        "Model Development\n",
        "  Select Models ->\n",
        "  For sentiment analysis, several models can perform well. We'll consider a variety of algorithms to see which works best:\n",
        "\n",
        "  1. **Logistic Regression**: Good baseline for binary classification tasks.\n",
        "  2. **Naive Bayes**: Often performs well in text classification.\n",
        "  3. **Support Vector Machine (SVM)**: Effective in high-dimensional spaces like text data.\n",
        "  4. **Random Forest**: Provides robustness due to its ensemble nature.\n",
        "  5. **Neural Networks**: Advanced models like LSTM or simple feed-forward networks can be very effective if you have enough data and computational resources."
      ]
    },
    {
      "cell_type": "code",
      "execution_count": 18,
      "metadata": {
        "colab": {
          "base_uri": "https://localhost:8080/"
        },
        "id": "HiOaU0_EPFfV",
        "outputId": "356d6578-8f0b-4815-a988-803fe477f464"
      },
      "outputs": [
        {
          "name": "stdout",
          "output_type": "stream",
          "text": [
            "              precision    recall  f1-score   support\n",
            "\n",
            "           0       0.87      0.86      0.87      4961\n",
            "           1       0.86      0.88      0.87      5039\n",
            "\n",
            "    accuracy                           0.87     10000\n",
            "   macro avg       0.87      0.87      0.87     10000\n",
            "weighted avg       0.87      0.87      0.87     10000\n",
            "\n",
            "[[4268  693]\n",
            " [ 618 4421]]\n"
          ]
        }
      ],
      "source": [
        "# Making the model on Logistic Regression\n",
        "from sklearn.linear_model import LogisticRegression\n",
        "from sklearn.metrics import classification_report, confusion_matrix\n",
        "\n",
        "# Initialize the Logistic Regression model\n",
        "model = LogisticRegression()\n",
        "\n",
        "# Train the model\n",
        "model.fit(X_train, y_train)\n",
        "\n",
        "# Predict on the test set\n",
        "y_pred = model.predict(X_test)\n",
        "\n",
        "# Evaluate the model\n",
        "print(classification_report(y_test, y_pred))\n",
        "print(confusion_matrix(y_test, y_pred))\n"
      ]
    },
    {
      "cell_type": "code",
      "execution_count": 19,
      "metadata": {
        "colab": {
          "base_uri": "https://localhost:8080/"
        },
        "id": "DvdWAxPGPRqo",
        "outputId": "7064f0f6-f3ec-4817-f433-72ce509a77fd"
      },
      "outputs": [
        {
          "name": "stdout",
          "output_type": "stream",
          "text": [
            "SVM Classification Report:\n",
            "              precision    recall  f1-score   support\n",
            "\n",
            "           0       0.88      0.86      0.87      4961\n",
            "           1       0.87      0.89      0.88      5039\n",
            "\n",
            "    accuracy                           0.88     10000\n",
            "   macro avg       0.88      0.88      0.88     10000\n",
            "weighted avg       0.88      0.88      0.88     10000\n",
            "\n",
            "Random Forest Classification Report:\n",
            "              precision    recall  f1-score   support\n",
            "\n",
            "           0       0.83      0.83      0.83      4961\n",
            "           1       0.83      0.83      0.83      5039\n",
            "\n",
            "    accuracy                           0.83     10000\n",
            "   macro avg       0.83      0.83      0.83     10000\n",
            "weighted avg       0.83      0.83      0.83     10000\n",
            "\n"
          ]
        }
      ],
      "source": [
        "# Doing the same with SVM and Random Forest\n",
        "from sklearn.svm import SVC\n",
        "from sklearn.ensemble import RandomForestClassifier\n",
        "\n",
        "# Support Vector Machine\n",
        "svm_model = SVC()\n",
        "svm_model.fit(X_train, y_train)\n",
        "svm_predictions = svm_model.predict(X_test)\n",
        "\n",
        "# Random Forest\n",
        "rf_model = RandomForestClassifier()\n",
        "rf_model.fit(X_train, y_train)\n",
        "rf_predictions = rf_model.predict(X_test)\n",
        "\n",
        "# Evaluate SVM and Random Forest\n",
        "print(\"SVM Classification Report:\")\n",
        "print(classification_report(y_test, svm_predictions))\n",
        "print(\"Random Forest Classification Report:\")\n",
        "print(classification_report(y_test, rf_predictions))\n"
      ]
    },
    {
      "cell_type": "code",
      "execution_count": 23,
      "metadata": {},
      "outputs": [
        {
          "data": {
            "text/plain": [
              "[<matplotlib.lines.Line2D at 0x20367d59670>]"
            ]
          },
          "execution_count": 23,
          "metadata": {},
          "output_type": "execute_result"
        },
        {
          "data": {
            "image/png": "[encoded data removed]",
            "text/plain": [
              "<Figure size 500x300 with 1 Axes>"
            ]
          },
          "metadata": {},
          "output_type": "display_data"
        }
      ],
      "source": [
        "import matplotlib.pyplot as plt\n",
        "plt.figure(figsize=(5,3))\n",
        "plt.plot(\n",
        "    model.coef_[0],\n",
        "    label='Logistic Regression'\n",
        ")\n"
      ]
    },
    {
      "cell_type": "markdown",
      "metadata": {},
      "source": [
        "**Video Explanation link:**\n",
        "https://drive.google.com/file/d/1EmPCUi_fQAL1gu45W7RQzwr-MRWMpTzl/view?usp=sharing\n"
      ]
    }
  ],
  "metadata": {
    "colab": {
      "provenance": []
    },
    "kernelspec": {
      "display_name": "base",
      "language": "python",
      "name": "python3"
    },
    "language_info": {
      "codemirror_mode": {
        "name": "ipython",
        "version": 3
      },
      "file_extension": ".py",
      "mimetype": "text/x-python",
      "name": "python",
      "nbconvert_exporter": "python",
      "pygments_lexer": "ipython3",
      "version": "3.12.7"
    }
  },
  "nbformat": 4,
  "nbformat_minor": 0
}
