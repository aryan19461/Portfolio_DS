{
 "cells": [
  {
   "cell_type": "code",
   "execution_count": 5,
   "id": "4bdd2968-6f32-41c0-aa68-6c8019a56dac",
   "metadata": {},
   "outputs": [],
   "source": [
    "import pandas as pd\n",
    "import numpy as np\n",
    "import matplotlib.pyplot as plt\n",
    "from scipy.stats import ttest_ind\n"
   ]
  },
  {
   "cell_type": "code",
   "execution_count": 11,
   "id": "66b750cc-c780-4a66-8f8e-4f77eef8891e",
   "metadata": {},
   "outputs": [],
   "source": [
    "data_path = 'FEV.xlsx'\n",
    "df = pd.read_excel(data_path)"
   ]
  },
  {
   "cell_type": "code",
   "execution_count": 33,
   "id": "e12cb1f5-8533-479f-8d07-bb27ed63648b",
   "metadata": {},
   "outputs": [
    {
     "data": {
      "text/html": [
       "<div>\n",
       "<style scoped>\n",
       "    .dataframe tbody tr th:only-of-type {\n",
       "        vertical-align: middle;\n",
       "    }\n",
       "\n",
       "    .dataframe tbody tr th {\n",
       "        vertical-align: top;\n",
       "    }\n",
       "\n",
       "    .dataframe thead th {\n",
       "        text-align: right;\n",
       "    }\n",
       "</style>\n",
       "<table border=\"1\" class=\"dataframe\">\n",
       "  <thead>\n",
       "    <tr style=\"text-align: right;\">\n",
       "      <th></th>\n",
       "      <th>Car full name</th>\n",
       "      <th>Make</th>\n",
       "      <th>Model</th>\n",
       "      <th>Minimal price (gross) [PLN]</th>\n",
       "      <th>Engine power [KM]</th>\n",
       "      <th>Maximum torque [Nm]</th>\n",
       "      <th>Type of brakes</th>\n",
       "      <th>Drive type</th>\n",
       "      <th>Battery capacity [kWh]</th>\n",
       "      <th>Range (WLTP) [km]</th>\n",
       "      <th>...</th>\n",
       "      <th>Permissable gross weight [kg]</th>\n",
       "      <th>Maximum load capacity [kg]</th>\n",
       "      <th>Number of seats</th>\n",
       "      <th>Number of doors</th>\n",
       "      <th>Tire size [in]</th>\n",
       "      <th>Maximum speed [kph]</th>\n",
       "      <th>Boot capacity (VDA) [l]</th>\n",
       "      <th>Acceleration 0-100 kph [s]</th>\n",
       "      <th>Maximum DC charging power [kW]</th>\n",
       "      <th>mean - Energy consumption [kWh/100 km]</th>\n",
       "    </tr>\n",
       "  </thead>\n",
       "  <tbody>\n",
       "    <tr>\n",
       "      <th>0</th>\n",
       "      <td>Audi e-tron 55 quattro</td>\n",
       "      <td>Audi</td>\n",
       "      <td>e-tron 55 quattro</td>\n",
       "      <td>345700</td>\n",
       "      <td>360</td>\n",
       "      <td>664</td>\n",
       "      <td>disc (front + rear)</td>\n",
       "      <td>4WD</td>\n",
       "      <td>95.0</td>\n",
       "      <td>438</td>\n",
       "      <td>...</td>\n",
       "      <td>3130.0</td>\n",
       "      <td>640.0</td>\n",
       "      <td>5</td>\n",
       "      <td>5</td>\n",
       "      <td>19</td>\n",
       "      <td>200</td>\n",
       "      <td>660.0</td>\n",
       "      <td>5.7</td>\n",
       "      <td>150</td>\n",
       "      <td>24.45</td>\n",
       "    </tr>\n",
       "    <tr>\n",
       "      <th>1</th>\n",
       "      <td>Audi e-tron 50 quattro</td>\n",
       "      <td>Audi</td>\n",
       "      <td>e-tron 50 quattro</td>\n",
       "      <td>308400</td>\n",
       "      <td>313</td>\n",
       "      <td>540</td>\n",
       "      <td>disc (front + rear)</td>\n",
       "      <td>4WD</td>\n",
       "      <td>71.0</td>\n",
       "      <td>340</td>\n",
       "      <td>...</td>\n",
       "      <td>3040.0</td>\n",
       "      <td>670.0</td>\n",
       "      <td>5</td>\n",
       "      <td>5</td>\n",
       "      <td>19</td>\n",
       "      <td>190</td>\n",
       "      <td>660.0</td>\n",
       "      <td>6.8</td>\n",
       "      <td>150</td>\n",
       "      <td>23.80</td>\n",
       "    </tr>\n",
       "    <tr>\n",
       "      <th>2</th>\n",
       "      <td>Audi e-tron S quattro</td>\n",
       "      <td>Audi</td>\n",
       "      <td>e-tron S quattro</td>\n",
       "      <td>414900</td>\n",
       "      <td>503</td>\n",
       "      <td>973</td>\n",
       "      <td>disc (front + rear)</td>\n",
       "      <td>4WD</td>\n",
       "      <td>95.0</td>\n",
       "      <td>364</td>\n",
       "      <td>...</td>\n",
       "      <td>3130.0</td>\n",
       "      <td>565.0</td>\n",
       "      <td>5</td>\n",
       "      <td>5</td>\n",
       "      <td>20</td>\n",
       "      <td>210</td>\n",
       "      <td>660.0</td>\n",
       "      <td>4.5</td>\n",
       "      <td>150</td>\n",
       "      <td>27.55</td>\n",
       "    </tr>\n",
       "    <tr>\n",
       "      <th>3</th>\n",
       "      <td>Audi e-tron Sportback 50 quattro</td>\n",
       "      <td>Audi</td>\n",
       "      <td>e-tron Sportback 50 quattro</td>\n",
       "      <td>319700</td>\n",
       "      <td>313</td>\n",
       "      <td>540</td>\n",
       "      <td>disc (front + rear)</td>\n",
       "      <td>4WD</td>\n",
       "      <td>71.0</td>\n",
       "      <td>346</td>\n",
       "      <td>...</td>\n",
       "      <td>3040.0</td>\n",
       "      <td>640.0</td>\n",
       "      <td>5</td>\n",
       "      <td>5</td>\n",
       "      <td>19</td>\n",
       "      <td>190</td>\n",
       "      <td>615.0</td>\n",
       "      <td>6.8</td>\n",
       "      <td>150</td>\n",
       "      <td>23.30</td>\n",
       "    </tr>\n",
       "    <tr>\n",
       "      <th>4</th>\n",
       "      <td>Audi e-tron Sportback 55 quattro</td>\n",
       "      <td>Audi</td>\n",
       "      <td>e-tron Sportback 55 quattro</td>\n",
       "      <td>357000</td>\n",
       "      <td>360</td>\n",
       "      <td>664</td>\n",
       "      <td>disc (front + rear)</td>\n",
       "      <td>4WD</td>\n",
       "      <td>95.0</td>\n",
       "      <td>447</td>\n",
       "      <td>...</td>\n",
       "      <td>3130.0</td>\n",
       "      <td>670.0</td>\n",
       "      <td>5</td>\n",
       "      <td>5</td>\n",
       "      <td>19</td>\n",
       "      <td>200</td>\n",
       "      <td>615.0</td>\n",
       "      <td>5.7</td>\n",
       "      <td>150</td>\n",
       "      <td>23.85</td>\n",
       "    </tr>\n",
       "  </tbody>\n",
       "</table>\n",
       "<p>5 rows × 25 columns</p>\n",
       "</div>"
      ],
      "text/plain": [
       "                      Car full name  Make                        Model  \\\n",
       "0            Audi e-tron 55 quattro  Audi            e-tron 55 quattro   \n",
       "1            Audi e-tron 50 quattro  Audi            e-tron 50 quattro   \n",
       "2             Audi e-tron S quattro  Audi             e-tron S quattro   \n",
       "3  Audi e-tron Sportback 50 quattro  Audi  e-tron Sportback 50 quattro   \n",
       "4  Audi e-tron Sportback 55 quattro  Audi  e-tron Sportback 55 quattro   \n",
       "\n",
       "   Minimal price (gross) [PLN]  Engine power [KM]  Maximum torque [Nm]  \\\n",
       "0                       345700                360                  664   \n",
       "1                       308400                313                  540   \n",
       "2                       414900                503                  973   \n",
       "3                       319700                313                  540   \n",
       "4                       357000                360                  664   \n",
       "\n",
       "        Type of brakes Drive type  Battery capacity [kWh]  Range (WLTP) [km]  \\\n",
       "0  disc (front + rear)        4WD                    95.0                438   \n",
       "1  disc (front + rear)        4WD                    71.0                340   \n",
       "2  disc (front + rear)        4WD                    95.0                364   \n",
       "3  disc (front + rear)        4WD                    71.0                346   \n",
       "4  disc (front + rear)        4WD                    95.0                447   \n",
       "\n",
       "   ...  Permissable gross weight [kg]  Maximum load capacity [kg]  \\\n",
       "0  ...                         3130.0                       640.0   \n",
       "1  ...                         3040.0                       670.0   \n",
       "2  ...                         3130.0                       565.0   \n",
       "3  ...                         3040.0                       640.0   \n",
       "4  ...                         3130.0                       670.0   \n",
       "\n",
       "   Number of seats  Number of doors  Tire size [in]  Maximum speed [kph]  \\\n",
       "0                5                5              19                  200   \n",
       "1                5                5              19                  190   \n",
       "2                5                5              20                  210   \n",
       "3                5                5              19                  190   \n",
       "4                5                5              19                  200   \n",
       "\n",
       "   Boot capacity (VDA) [l]  Acceleration 0-100 kph [s]  \\\n",
       "0                    660.0                         5.7   \n",
       "1                    660.0                         6.8   \n",
       "2                    660.0                         4.5   \n",
       "3                    615.0                         6.8   \n",
       "4                    615.0                         5.7   \n",
       "\n",
       "   Maximum DC charging power [kW]  mean - Energy consumption [kWh/100 km]  \n",
       "0                             150                                   24.45  \n",
       "1                             150                                   23.80  \n",
       "2                             150                                   27.55  \n",
       "3                             150                                   23.30  \n",
       "4                             150                                   23.85  \n",
       "\n",
       "[5 rows x 25 columns]"
      ]
     },
     "execution_count": 33,
     "metadata": {},
     "output_type": "execute_result"
    }
   ],
   "source": [
    "df.head(5) #checking the file whether imported correctly or not"
   ]
  },
  {
   "cell_type": "code",
   "execution_count": 45,
   "id": "e12ebe5a-1b6e-4f05-bc68-90c2b1a0163c",
   "metadata": {},
   "outputs": [
    {
     "name": "stdout",
     "output_type": "stream",
     "text": [
      "Average Battery Capacity by Manufacturer\n",
      "Make\n",
      "Audi             95.000000\n",
      "BMW              80.000000\n",
      "Hyundai          64.000000\n",
      "Kia              64.000000\n",
      "Mercedes-Benz    80.000000\n",
      "Tesla            68.000000\n",
      "Volkswagen       70.666667\n",
      "Name: Battery capacity [kWh], dtype: float64\n"
     ]
    }
   ],
   "source": [
    "#Task 1\n",
    "filtered_df = df[(df['Minimal price (gross) [PLN]'] <= 350000) & (df['Range (WLTP) [km]'] >= 400)]\n",
    "grouped_by_make = filtered_df.groupby('Make')\n",
    "avg_battery_capacity = grouped_by_make['Battery capacity [kWh]'].mean()\n",
    "print(\"Average Battery Capacity by Manufacturer\")\n",
    "print(avg_battery_capacity)\n"
   ]
  },
  {
   "cell_type": "code",
   "execution_count": 41,
   "id": "df49de6c-9ac9-43b9-96d2-320200c027bb",
   "metadata": {},
   "outputs": [
    {
     "name": "stdout",
     "output_type": "stream",
     "text": [
      "\n",
      " Outliers in Energy Consumption\n",
      "Empty DataFrame\n",
      "Columns: [Car full name, mean - Energy consumption [kWh/100 km]]\n",
      "Index: []\n"
     ]
    }
   ],
   "source": [
    "#Task 2\n",
    "energy_consumption = df['mean - Energy consumption [kWh/100 km]']\n",
    "z_scores = (energy_consumption - energy_consumption.mean()) / energy_consumption.std()\n",
    "outliers = df[(z_scores.abs() > 3)]\n",
    "print(\"\\n Outliers in Energy Consumption\")\n",
    "print(outliers[['Car full name', 'mean - Energy consumption [kWh/100 km]']])\n"
   ]
  },
  {
   "cell_type": "code",
   "execution_count": 39,
   "id": "33bcfb87-5ef6-4e8a-9367-f4eb0d1769f0",
   "metadata": {},
   "outputs": [
    {
     "data": {
      "image/png": "[encoded data removed]",
      "text/plain": [
       "<Figure size 1000x600 with 1 Axes>"
      ]
     },
     "metadata": {},
     "output_type": "display_data"
    },
    {
     "name": "stdout",
     "output_type": "stream",
     "text": [
      "\n",
      " Correlation between Battery Capacity and Range: 0.81\n"
     ]
    }
   ],
   "source": [
    "#Task 3\n",
    "# a) Create a scatter plot\n",
    "plt.figure(figsize=(10, 6))\n",
    "plt.scatter(df['Battery capacity [kWh]'], df['Range (WLTP) [km]'], alpha=0.7, edgecolor='k')\n",
    "plt.title('Battery Capacity vs Range')\n",
    "plt.xlabel('Battery Capacity [kWh]')\n",
    "plt.ylabel('Range (WLTP) [km]')\n",
    "plt.grid(True)\n",
    "plt.show()\n",
    "\n",
    "# b) Highlight Insights\n",
    "correlation = df['Battery capacity [kWh]'].corr(df['Range (WLTP) [km]'])\n",
    "print(f\"\\n Correlation between Battery Capacity and Range: {correlation:.2f}\")\n"
   ]
  },
  {
   "cell_type": "code",
   "execution_count": 35,
   "id": "983186f2-68a5-4e18-b255-922e904182c2",
   "metadata": {},
   "outputs": [
    {
     "name": "stdout",
     "output_type": "stream",
     "text": [
      "\n",
      " Top 3 EV Recommendations\n",
      "                Car full name        Make  Range (WLTP) [km]  \\\n",
      "40   Tesla Model 3 Long Range       Tesla                580   \n",
      "41  Tesla Model 3 Performance       Tesla                567   \n",
      "48      Volkswagen ID.3 Pro S  Volkswagen                549   \n",
      "\n",
      "    Battery capacity [kWh]  \n",
      "40                    75.0  \n",
      "41                    75.0  \n",
      "48                    77.0  \n"
     ]
    }
   ],
   "source": [
    "#Task 4\n",
    "class EVRecommendation:\n",
    "    def __init__(self, df):\n",
    "        self.df = df\n",
    "\n",
    "    def recommend(self, budget, desired_range, min_battery_capacity):\n",
    "        recommendations = self.df[(self.df['Minimal price (gross) [PLN]'] <= budget) &\n",
    "                                   (self.df['Range (WLTP) [km]'] >= desired_range) &\n",
    "                                   (self.df['Battery capacity [kWh]'] >= min_battery_capacity)]\n",
    "        return recommendations.nlargest(3, 'Range (WLTP) [km]')[['Car full name', 'Make', 'Range (WLTP) [km]', 'Battery capacity [kWh]']]\n",
    "\n",
    "recommender = EVRecommendation(df)\n",
    "budget = 350000\n",
    "desired_range = 400\n",
    "min_battery_capacity = 50\n",
    "recommendations = recommender.recommend(budget, desired_range, min_battery_capacity)\n",
    "print(\"\\n Top 3 EV Recommendations\")\n",
    "print(recommendations)\n"
   ]
  },
  {
   "cell_type": "code",
   "execution_count": 37,
   "id": "73943c0f-bafc-4149-8c5a-cce71589c684",
   "metadata": {},
   "outputs": [
    {
     "name": "stdout",
     "output_type": "stream",
     "text": [
      "\n",
      " Hypothesis Testing\n",
      "T-statistic: 1.79, P-value: 0.1068\n",
      "No significant difference in the average engine power between Tesla and Audi.\n"
     ]
    }
   ],
   "source": [
    "#Task 5\n",
    "# Comparing Engine power between Tesla and Audi\n",
    "tesla_power = df[df['Make'] == 'Tesla']['Engine power [KM]']\n",
    "audi_power = df[df['Make'] == 'Audi']['Engine power [KM]']\n",
    "\n",
    "# Performing two-sample t-test\n",
    "stat, p_value = ttest_ind(tesla_power.dropna(), audi_power.dropna(), equal_var=False)\n",
    "print(\"\\n Hypothesis Testing\")\n",
    "print(f\"T-statistic: {stat:.2f}, P-value: {p_value:.4f}\")\n",
    "if p_value < 0.05:\n",
    "    print(\"There is a significant difference in the average engine power between Tesla and Audi.\")\n",
    "else:\n",
    "    print(\"No significant difference in the average engine power between Tesla and Audi.\")\n"
   ]
  },
  {
   "cell_type": "markdown",
   "id": "ebb91758",
   "metadata": {},
   "source": [
    "# Analysis Video\n",
    "[Click here to watch](<https://drive.google.com/file/d/1hQQfBR0n63-6D-0iO_pWvKA8_PSy8Aqu/view?usp=sharing>)\n"
   ]
  }
 ],
 "metadata": {
  "kernelspec": {
   "display_name": "Python [conda env:base] *",
   "language": "python",
   "name": "conda-base-py"
  },
  "language_info": {
   "codemirror_mode": {
    "name": "ipython",
    "version": 3
   },
   "file_extension": ".py",
   "mimetype": "text/x-python",
   "name": "python",
   "nbconvert_exporter": "python",
   "pygments_lexer": "ipython3",
   "version": "3.12.7"
  }
 },
 "nbformat": 4,
 "nbformat_minor": 5
}
